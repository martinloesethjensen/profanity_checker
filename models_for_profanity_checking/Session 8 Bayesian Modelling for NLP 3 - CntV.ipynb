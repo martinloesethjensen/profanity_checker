{
 "cells": [
  {
   "cell_type": "markdown",
   "metadata": {},
   "source": [
    "# Bayes Modelling for NLP\n",
    "## Task 3: Profanity Check\n",
    "### Data Set: Students' Collection\n",
    "The objective is to train a model, which can be used for automatic detection of profanity words in text messages.<br>"
   ]
  },
  {
   "cell_type": "markdown",
   "metadata": {},
   "source": [
    "### Step 1: Imports"
   ]
  },
  {
   "cell_type": "code",
   "execution_count": 1,
   "metadata": {},
   "outputs": [],
   "source": [
    "import matplotlib.pyplot as plt\n",
    "import pandas as pd\n",
    "import seaborn as sns\n",
    "from sklearn.feature_extraction.text import CountVectorizer\n",
    "from sklearn.metrics import accuracy_score\n",
    "from sklearn.metrics import classification_report\n",
    "from sklearn.metrics import confusion_matrix\n",
    "from sklearn.metrics import precision_score, recall_score, f1_score\n",
    "from sklearn.model_selection import train_test_split\n",
    "from sklearn.naive_bayes import MultinomialNB\n"
   ]
  },
  {
   "cell_type": "markdown",
   "metadata": {},
   "source": [
    "### Step 2: Dataset\n",
    "We will be using a dataset collected by students in one of the previous exercises, _Mind Your Language_"
   ]
  },
  {
   "cell_type": "code",
   "execution_count": 2,
   "metadata": {},
   "outputs": [],
   "source": [
    "# It is a pre-processed table with two columns - a label and a message\n",
    "# Import the table into a pandas dataframe using the read_table method\n",
    "df = pd.read_csv('../files/profanity.txt', sep='\\t', header=None, names=['text', 'label'])"
   ]
  },
  {
   "cell_type": "code",
   "execution_count": 3,
   "metadata": {},
   "outputs": [
    {
     "data": {
      "text/plain": [
       "(25, 2)"
      ]
     },
     "execution_count": 3,
     "metadata": {},
     "output_type": "execute_result"
    }
   ],
   "source": [
    "df.shape"
   ]
  },
  {
   "cell_type": "code",
   "execution_count": 4,
   "metadata": {},
   "outputs": [
    {
     "data": {
      "text/html": [
       "<div>\n",
       "<style scoped>\n",
       "    .dataframe tbody tr th:only-of-type {\n",
       "        vertical-align: middle;\n",
       "    }\n",
       "\n",
       "    .dataframe tbody tr th {\n",
       "        vertical-align: top;\n",
       "    }\n",
       "\n",
       "    .dataframe thead th {\n",
       "        text-align: right;\n",
       "    }\n",
       "</style>\n",
       "<table border=\"1\" class=\"dataframe\">\n",
       "  <thead>\n",
       "    <tr style=\"text-align: right;\">\n",
       "      <th></th>\n",
       "      <th>text</th>\n",
       "      <th>label</th>\n",
       "    </tr>\n",
       "  </thead>\n",
       "  <tbody>\n",
       "    <tr>\n",
       "      <th>0</th>\n",
       "      <td>What  is  HTTP?  HTTP  is  a  set  of  protoco...</td>\n",
       "      <td>0</td>\n",
       "    </tr>\n",
       "    <tr>\n",
       "      <th>1</th>\n",
       "      <td>A  web  browser  may  be  the  client,  and  a...</td>\n",
       "      <td>0</td>\n",
       "    </tr>\n",
       "    <tr>\n",
       "      <th>2</th>\n",
       "      <td>Hi, my name is Martin. This text only contain ...</td>\n",
       "      <td>0</td>\n",
       "    </tr>\n",
       "    <tr>\n",
       "      <th>3</th>\n",
       "      <td>This is a great assignment to learn lots of gr...</td>\n",
       "      <td>0</td>\n",
       "    </tr>\n",
       "    <tr>\n",
       "      <th>4</th>\n",
       "      <td>Nam posuere mattis velit, sodales faucibus nul...</td>\n",
       "      <td>0</td>\n",
       "    </tr>\n",
       "  </tbody>\n",
       "</table>\n",
       "</div>"
      ],
      "text/plain": [
       "                                                text  label\n",
       "0  What  is  HTTP?  HTTP  is  a  set  of  protoco...      0\n",
       "1  A  web  browser  may  be  the  client,  and  a...      0\n",
       "2  Hi, my name is Martin. This text only contain ...      0\n",
       "3  This is a great assignment to learn lots of gr...      0\n",
       "4  Nam posuere mattis velit, sodales faucibus nul...      0"
      ]
     },
     "execution_count": 4,
     "metadata": {},
     "output_type": "execute_result"
    }
   ],
   "source": [
    "# Printing out first five rows to get idea about the data\n",
    "df.head()"
   ]
  },
  {
   "cell_type": "code",
   "execution_count": 5,
   "metadata": {},
   "outputs": [
    {
     "data": {
      "text/html": [
       "<div>\n",
       "<style scoped>\n",
       "    .dataframe tbody tr th:only-of-type {\n",
       "        vertical-align: middle;\n",
       "    }\n",
       "\n",
       "    .dataframe tbody tr th {\n",
       "        vertical-align: top;\n",
       "    }\n",
       "\n",
       "    .dataframe thead th {\n",
       "        text-align: right;\n",
       "    }\n",
       "</style>\n",
       "<table border=\"1\" class=\"dataframe\">\n",
       "  <thead>\n",
       "    <tr style=\"text-align: right;\">\n",
       "      <th></th>\n",
       "      <th>text</th>\n",
       "      <th>label</th>\n",
       "    </tr>\n",
       "  </thead>\n",
       "  <tbody>\n",
       "    <tr>\n",
       "      <th>0</th>\n",
       "      <td>What  is  HTTP?  HTTP  is  a  set  of  protoco...</td>\n",
       "      <td>0</td>\n",
       "    </tr>\n",
       "    <tr>\n",
       "      <th>1</th>\n",
       "      <td>A  web  browser  may  be  the  client,  and  a...</td>\n",
       "      <td>0</td>\n",
       "    </tr>\n",
       "    <tr>\n",
       "      <th>2</th>\n",
       "      <td>Hi, my name is Martin. This text only contain ...</td>\n",
       "      <td>0</td>\n",
       "    </tr>\n",
       "    <tr>\n",
       "      <th>3</th>\n",
       "      <td>This is a great assignment to learn lots of gr...</td>\n",
       "      <td>0</td>\n",
       "    </tr>\n",
       "    <tr>\n",
       "      <th>4</th>\n",
       "      <td>Nam posuere mattis velit, sodales faucibus nul...</td>\n",
       "      <td>0</td>\n",
       "    </tr>\n",
       "    <tr>\n",
       "      <th>5</th>\n",
       "      <td>hej med dig :D duck og saa videre,</td>\n",
       "      <td>0</td>\n",
       "    </tr>\n",
       "    <tr>\n",
       "      <th>6</th>\n",
       "      <td>Hello, is it me you're looking for?,</td>\n",
       "      <td>0</td>\n",
       "    </tr>\n",
       "    <tr>\n",
       "      <th>7</th>\n",
       "      <td>Fuck, this is shit,</td>\n",
       "      <td>1</td>\n",
       "    </tr>\n",
       "    <tr>\n",
       "      <th>8</th>\n",
       "      <td>This is a fucking great assignment to learn lo...</td>\n",
       "      <td>1</td>\n",
       "    </tr>\n",
       "    <tr>\n",
       "      <th>9</th>\n",
       "      <td>This design is fucking brilliant. The details ...</td>\n",
       "      <td>1</td>\n",
       "    </tr>\n",
       "    <tr>\n",
       "      <th>10</th>\n",
       "      <td>Think about all the fucking possibilities. Res...</td>\n",
       "      <td>1</td>\n",
       "    </tr>\n",
       "    <tr>\n",
       "      <th>11</th>\n",
       "      <td>The graphic designer’s first fucking considera...</td>\n",
       "      <td>1</td>\n",
       "    </tr>\n",
       "    <tr>\n",
       "      <th>12</th>\n",
       "      <td>Never, never assume that what you have achieve...</td>\n",
       "      <td>1</td>\n",
       "    </tr>\n",
       "    <tr>\n",
       "      <th>13</th>\n",
       "      <td>You won’t get good at anything by doing it a l...</td>\n",
       "      <td>1</td>\n",
       "    </tr>\n",
       "    <tr>\n",
       "      <th>14</th>\n",
       "      <td>Saul Bass on failure: Failure is built into cr...</td>\n",
       "      <td>1</td>\n",
       "    </tr>\n",
       "    <tr>\n",
       "      <th>15</th>\n",
       "      <td>Learn from fucking criticism. You need to sit ...</td>\n",
       "      <td>1</td>\n",
       "    </tr>\n",
       "    <tr>\n",
       "      <th>16</th>\n",
       "      <td>When you sit down to work, external critics ar...</td>\n",
       "      <td>1</td>\n",
       "    </tr>\n",
       "    <tr>\n",
       "      <th>17</th>\n",
       "      <td>To go partway is easy, but mastering anything ...</td>\n",
       "      <td>1</td>\n",
       "    </tr>\n",
       "    <tr>\n",
       "      <th>18</th>\n",
       "      <td>Intuition is fucking important, Paul Rand once...</td>\n",
       "      <td>1</td>\n",
       "    </tr>\n",
       "    <tr>\n",
       "      <th>19</th>\n",
       "      <td>fucking kage,</td>\n",
       "      <td>1</td>\n",
       "    </tr>\n",
       "    <tr>\n",
       "      <th>20</th>\n",
       "      <td>Fuck,</td>\n",
       "      <td>1</td>\n",
       "    </tr>\n",
       "    <tr>\n",
       "      <th>21</th>\n",
       "      <td>Damn,</td>\n",
       "      <td>1</td>\n",
       "    </tr>\n",
       "    <tr>\n",
       "      <th>22</th>\n",
       "      <td>Fucking,</td>\n",
       "      <td>1</td>\n",
       "    </tr>\n",
       "    <tr>\n",
       "      <th>23</th>\n",
       "      <td>Shitty,</td>\n",
       "      <td>1</td>\n",
       "    </tr>\n",
       "    <tr>\n",
       "      <th>24</th>\n",
       "      <td>Hello is me you're fucking looking for?,</td>\n",
       "      <td>1</td>\n",
       "    </tr>\n",
       "  </tbody>\n",
       "</table>\n",
       "</div>"
      ],
      "text/plain": [
       "                                                 text  label\n",
       "0   What  is  HTTP?  HTTP  is  a  set  of  protoco...      0\n",
       "1   A  web  browser  may  be  the  client,  and  a...      0\n",
       "2   Hi, my name is Martin. This text only contain ...      0\n",
       "3   This is a great assignment to learn lots of gr...      0\n",
       "4   Nam posuere mattis velit, sodales faucibus nul...      0\n",
       "5                 hej med dig :D duck og saa videre,       0\n",
       "6               Hello, is it me you're looking for?,       0\n",
       "7                                Fuck, this is shit,       1\n",
       "8   This is a fucking great assignment to learn lo...      1\n",
       "9   This design is fucking brilliant. The details ...      1\n",
       "10  Think about all the fucking possibilities. Res...      1\n",
       "11  The graphic designer’s first fucking considera...      1\n",
       "12  Never, never assume that what you have achieve...      1\n",
       "13  You won’t get good at anything by doing it a l...      1\n",
       "14  Saul Bass on failure: Failure is built into cr...      1\n",
       "15  Learn from fucking criticism. You need to sit ...      1\n",
       "16  When you sit down to work, external critics ar...      1\n",
       "17  To go partway is easy, but mastering anything ...      1\n",
       "18  Intuition is fucking important, Paul Rand once...      1\n",
       "19                                     fucking kage,       1\n",
       "20                                             Fuck,       1\n",
       "21                                             Damn,       1\n",
       "22                                          Fucking,       1\n",
       "23                                           Shitty,       1\n",
       "24          Hello is me you're fucking looking for?,       1"
      ]
     },
     "execution_count": 5,
     "metadata": {},
     "output_type": "execute_result"
    }
   ],
   "source": [
    "df"
   ]
  },
  {
   "cell_type": "code",
   "execution_count": 6,
   "metadata": {},
   "outputs": [
    {
     "data": {
      "image/png": "[encoded data removed]",
      "text/plain": [
       "<Figure size 432x288 with 1 Axes>"
      ]
     },
     "metadata": {
      "needs_background": "light"
     },
     "output_type": "display_data"
    }
   ],
   "source": [
    "s = df['label'].value_counts()\n",
    "sns.barplot(x=s.index, y=s.values)\n",
    "plt.title('Data Distribution')\n",
    "plt.show()"
   ]
  },
  {
   "cell_type": "markdown",
   "metadata": {},
   "source": [
    "### Step 3: Data Preprocessing"
   ]
  },
  {
   "cell_type": "markdown",
   "metadata": {},
   "source": [
    "#### Digitalize"
   ]
  },
  {
   "cell_type": "markdown",
   "metadata": {},
   "source": [
    "#### Bag-of-Words\n",
    "\n",
    "A model, which represents a piece of text, such as a sentence or a document, as the bag (multiset) of its words, disregarding grammar and even word order but keeping multiplicity.\n",
    "The words are stored as tockens, with a count of frequency of their appearance.\n",
    "The process is called _vectorization_, as each document is represented as a word-count vector.\n",
    "The preprocessing includes: \n",
    "- converting strings to lower case\n",
    "- removing punctuation\n",
    "- tokenizing the text and giving an integer ID to each token\n",
    "- count the frequencies of each token\n",
    "- building a sparse matrix of [documents x tokens]"
   ]
  },
  {
   "cell_type": "markdown",
   "metadata": {},
   "source": [
    "<div style=\"width: 200px;\">\n",
    "![image.png](attachment:image.png)\n",
    "<a href=https://www.novuslight.com/uploads/n/BagofWords.jpg>bag of words</a>\n",
    "</div>"
   ]
  },
  {
   "cell_type": "markdown",
   "metadata": {},
   "source": [
    "## _Model 1: CountVectorizer_"
   ]
  },
  {
   "cell_type": "code",
   "execution_count": 7,
   "metadata": {},
   "outputs": [
    {
     "name": "stdout",
     "output_type": "stream",
     "text": [
      "Number of rows in the total set: 25\n",
      "Number of rows in the training set: 18\n",
      "Number of rows in the test set: 7\n"
     ]
    }
   ],
   "source": [
    "# Split the dataset into training and testing sets\n",
    "X_train, X_test, y_train, y_test = train_test_split(df['text'], df['label'], random_state=1)\n",
    "\n",
    "print('Number of rows in the total set: {}'.format(df.shape[0]))\n",
    "print('Number of rows in the training set: {}'.format(X_train.shape[0]))\n",
    "print('Number of rows in the test set: {}'.format(X_test.shape[0]))"
   ]
  },
  {
   "cell_type": "code",
   "execution_count": 8,
   "metadata": {},
   "outputs": [],
   "source": [
    "# Create an instance of CountVectorizer for vectorizing the text\n",
    "count_vector = CountVectorizer()"
   ]
  },
  {
   "cell_type": "code",
   "execution_count": 9,
   "metadata": {},
   "outputs": [],
   "source": [
    "# Fit the training data and then return the matrix\n",
    "training_data = count_vector.fit_transform(X_train)"
   ]
  },
  {
   "cell_type": "code",
   "execution_count": 10,
   "metadata": {},
   "outputs": [],
   "source": [
    "# Transform testing data and return the matrix \n",
    "# Note we are not fitting the testing data into the CountVectorizer()\n",
    "test_data = count_vector.transform(X_test)"
   ]
  },
  {
   "cell_type": "markdown",
   "metadata": {},
   "source": [
    "#### Example: Vectorizing single text document\n",
    "The text ['_This text is represted as a vector of text words and numbers_']<br>\n",
    "like ['this', 'text', 'is', 'represented', 'as', 'a', 'vector', 'of', 'words', 'and', 'numbers']<br>\n",
    "and then [1, 2, 1, 1, 1, 1, 1, 1, 1, 1, 1]"
   ]
  },
  {
   "cell_type": "markdown",
   "metadata": {},
   "source": [
    "#### Example: Vectorizing multiple documents\n",
    "Each text is represented as vector, and all text - in a __sparse matrix__.\n",
    "To keep track of all words, used in all documents (__corpus__), a __vocabulary__ is created, where each word gets an __index__."
   ]
  },
  {
   "cell_type": "code",
   "execution_count": 11,
   "metadata": {},
   "outputs": [
    {
     "data": {
      "text/plain": [
       "{'fucking': 67,\n",
       " 'kage': 86,\n",
       " 'nam': 106,\n",
       " 'posuere': 125,\n",
       " 'mattis': 96,\n",
       " 'velit': 164,\n",
       " 'sodales': 151,\n",
       " 'faucibus': 58,\n",
       " 'nulla': 113,\n",
       " 'tincidunt': 160,\n",
       " 'id': 80,\n",
       " 'aliquam': 4,\n",
       " 'nec': 108,\n",
       " 'fringilla': 64,\n",
       " 'nisi': 111,\n",
       " 'maecenas': 93,\n",
       " 'eget': 47,\n",
       " 'nunc': 114,\n",
       " 'at': 17,\n",
       " 'lacinia': 87,\n",
       " 'augue': 18,\n",
       " 'sed': 137,\n",
       " 'condimentum': 30,\n",
       " 'elementum': 48,\n",
       " 'est': 53,\n",
       " 'gravida': 72,\n",
       " 'morbi': 102,\n",
       " 'ut': 162,\n",
       " 'sem': 138,\n",
       " 'et': 54,\n",
       " 'arcu': 10,\n",
       " 'dui': 45,\n",
       " 'blandit': 23,\n",
       " 'in': 82,\n",
       " 'elit': 49,\n",
       " 'mollis': 101,\n",
       " 'ac': 1,\n",
       " 'egestas': 46,\n",
       " 'sapien': 136,\n",
       " 'rhoncus': 134,\n",
       " 'mauris': 97,\n",
       " 'semper': 139,\n",
       " 'odio': 115,\n",
       " 'placerat': 124,\n",
       " 'suspendisse': 154,\n",
       " 'laoreet': 89,\n",
       " 'pulvinar': 129,\n",
       " 'finibus': 60,\n",
       " 'ornare': 121,\n",
       " 'vehicula': 163,\n",
       " 'hi': 77,\n",
       " 'my': 105,\n",
       " 'name': 107,\n",
       " 'is': 83,\n",
       " 'martin': 95,\n",
       " 'this': 159,\n",
       " 'text': 155,\n",
       " 'only': 119,\n",
       " 'contain': 32,\n",
       " 'good': 70,\n",
       " 'words': 171,\n",
       " 'fuck': 66,\n",
       " 'hello': 76,\n",
       " 'it': 85,\n",
       " 'me': 99,\n",
       " 'you': 174,\n",
       " 're': 131,\n",
       " 'looking': 91,\n",
       " 'for': 62,\n",
       " 'shit': 144,\n",
       " 'web': 166,\n",
       " 'browser': 25,\n",
       " 'may': 98,\n",
       " 'be': 19,\n",
       " 'the': 157,\n",
       " 'client': 26,\n",
       " 'and': 7,\n",
       " 'an': 6,\n",
       " 'application': 9,\n",
       " 'on': 118,\n",
       " 'computer': 29,\n",
       " 'that': 156,\n",
       " 'hosts': 78,\n",
       " 'site': 148,\n",
       " 'server': 140,\n",
       " 'when': 168,\n",
       " 'sit': 147,\n",
       " 'down': 43,\n",
       " 'to': 161,\n",
       " 'work': 172,\n",
       " 'external': 56,\n",
       " 'critics': 34,\n",
       " 'aren': 12,\n",
       " 'enemy': 51,\n",
       " 'who': 170,\n",
       " 'must': 104,\n",
       " 'fight': 59,\n",
       " 'against': 3,\n",
       " 'do': 42,\n",
       " 'great': 73,\n",
       " 'overcome': 122,\n",
       " 'yourself': 176,\n",
       " 'what': 167,\n",
       " 'http': 79,\n",
       " 'set': 142,\n",
       " 'of': 116,\n",
       " 'protocols': 128,\n",
       " 'designed': 36,\n",
       " 'enable': 50,\n",
       " 'communication': 28,\n",
       " 'between': 21,\n",
       " 'clients': 27,\n",
       " 'servers': 141,\n",
       " 'works': 173,\n",
       " 'as': 13,\n",
       " 'request': 132,\n",
       " 'response': 133,\n",
       " 'protocol': 127,\n",
       " 'learn': 90,\n",
       " 'from': 65,\n",
       " 'criticism': 33,\n",
       " 'need': 109,\n",
       " 'sketch': 150,\n",
       " 'more': 103,\n",
       " 'ideas': 81,\n",
       " 'because': 20,\n",
       " 'stalking': 153,\n",
       " 'your': 175,\n",
       " 'ex': 55,\n",
       " 'facebook': 57,\n",
       " 'isn': 84,\n",
       " 'going': 69,\n",
       " 'get': 68,\n",
       " 'anywhere': 8,\n",
       " 'shitty': 146,\n",
       " 'design': 35,\n",
       " 'brilliant': 24,\n",
       " 'details': 38,\n",
       " 'are': 11,\n",
       " 'not': 112,\n",
       " 'they': 158,\n",
       " 'make': 94,\n",
       " 'assignment': 15,\n",
       " 'lots': 92,\n",
       " 'shits': 145,\n",
       " 'about': 0,\n",
       " 'son': 152,\n",
       " 'bitch': 22,\n",
       " 'language': 88,\n",
       " 'pyhon': 130,\n",
       " 'ass': 14,\n",
       " 'never': 110,\n",
       " 'assume': 16,\n",
       " 'have': 74,\n",
       " 'achieved': 2,\n",
       " 'enough': 52,\n",
       " 'graphic': 71,\n",
       " 'designer': 37,\n",
       " 'first': 61,\n",
       " 'consideration': 31,\n",
       " 'always': 5,\n",
       " 'size': 149,\n",
       " 'shape': 143,\n",
       " 'format': 63,\n",
       " 'whether': 169,\n",
       " 'printed': 126,\n",
       " 'page': 123,\n",
       " 'or': 120,\n",
       " 'digital': 40,\n",
       " 'display': 41,\n",
       " 'hej': 75,\n",
       " 'med': 100,\n",
       " 'dig': 39,\n",
       " 'duck': 44,\n",
       " 'og': 117,\n",
       " 'saa': 135,\n",
       " 'videre': 165}"
      ]
     },
     "execution_count": 11,
     "metadata": {},
     "output_type": "execute_result"
    }
   ],
   "source": [
    "# see the mapping between words and indices\n",
    "count_vector.vocabulary_"
   ]
  },
  {
   "cell_type": "code",
   "execution_count": 12,
   "metadata": {},
   "outputs": [
    {
     "data": {
      "text/plain": [
       "(18, 177)"
      ]
     },
     "execution_count": 12,
     "metadata": {},
     "output_type": "execute_result"
    }
   ],
   "source": [
    "# training data sparse matrix\n",
    "training_data.shape"
   ]
  },
  {
   "cell_type": "code",
   "execution_count": 13,
   "metadata": {},
   "outputs": [
    {
     "data": {
      "text/plain": [
       "(7, 177)"
      ]
     },
     "execution_count": 13,
     "metadata": {},
     "output_type": "execute_result"
    }
   ],
   "source": [
    "# test data sparse matrix\n",
    "test_data.shape"
   ]
  },
  {
   "cell_type": "code",
   "execution_count": 14,
   "metadata": {},
   "outputs": [
    {
     "data": {
      "text/plain": [
       "array([[0, 0, 0, ..., 0, 0, 0],\n",
       "       [0, 2, 0, ..., 0, 0, 0],\n",
       "       [0, 0, 0, ..., 0, 0, 0],\n",
       "       ...,\n",
       "       [0, 0, 1, ..., 1, 0, 0],\n",
       "       [0, 0, 0, ..., 0, 0, 0],\n",
       "       [0, 0, 0, ..., 0, 0, 0]], dtype=int64)"
      ]
     },
     "execution_count": 14,
     "metadata": {},
     "output_type": "execute_result"
    }
   ],
   "source": [
    "# 'A' is a sparse matrix property, used for its dense numpy.ndarray representation\n",
    "# We use it to visualize the matrix\n",
    "training_data.A"
   ]
  },
  {
   "cell_type": "code",
   "execution_count": 15,
   "metadata": {},
   "outputs": [
    {
     "data": {
      "text/plain": [
       "array([[0, 0, 0, ..., 0, 0, 0],\n",
       "       [0, 0, 0, ..., 1, 0, 0],\n",
       "       [0, 0, 0, ..., 0, 0, 0],\n",
       "       ...,\n",
       "       [0, 0, 0, ..., 0, 0, 0],\n",
       "       [1, 0, 0, ..., 0, 1, 0],\n",
       "       [0, 0, 0, ..., 0, 0, 0]], dtype=int64)"
      ]
     },
     "execution_count": 15,
     "metadata": {},
     "output_type": "execute_result"
    }
   ],
   "source": [
    "test_data.A"
   ]
  },
  {
   "cell_type": "code",
   "execution_count": 16,
   "metadata": {},
   "outputs": [
    {
     "name": "stdout",
     "output_type": "stream",
     "text": [
      "  (0, 86)\t1\n",
      "  (0, 67)\t1\n",
      "  (1, 163)\t1\n",
      "  (1, 121)\t1\n",
      "  (1, 60)\t2\n",
      "  (1, 129)\t1\n",
      "  (1, 89)\t1\n",
      "  (1, 154)\t1\n",
      "  (1, 124)\t1\n",
      "  (1, 115)\t1\n",
      "  (1, 139)\t1\n",
      "  (1, 97)\t1\n",
      "  (1, 134)\t1\n",
      "  (1, 136)\t1\n",
      "  (1, 46)\t2\n",
      "  (1, 1)\t2\n",
      "  (1, 101)\t1\n",
      "  (1, 49)\t1\n",
      "  (1, 82)\t1\n",
      "  (1, 23)\t1\n",
      "  (1, 45)\t2\n",
      "  (1, 10)\t1\n",
      "  (1, 54)\t1\n",
      "  (1, 138)\t1\n",
      "  (1, 162)\t1\n",
      "  :\t:\n",
      "  (1, 151)\t1\n",
      "  (1, 164)\t2\n",
      "  (1, 96)\t1\n",
      "  (1, 125)\t1\n",
      "  (1, 106)\t1\n",
      "  (2, 171)\t1\n",
      "  (2, 70)\t1\n",
      "  (2, 32)\t1\n",
      "  (2, 119)\t1\n",
      "  (2, 155)\t1\n",
      "  (2, 159)\t1\n",
      "  (2, 95)\t1\n",
      "  (2, 83)\t1\n",
      "  (2, 107)\t1\n",
      "  (2, 105)\t1\n",
      "  (2, 77)\t1\n",
      "  (3, 66)\t1\n",
      "  (4, 62)\t1\n",
      "  (4, 91)\t1\n",
      "  (4, 131)\t1\n",
      "  (4, 174)\t1\n",
      "  (4, 99)\t1\n",
      "  (4, 85)\t1\n",
      "  (4, 76)\t1\n",
      "  (4, 83)\t1\n"
     ]
    }
   ],
   "source": [
    "# see the output of vectorization:\n",
    "# (document, word index) number of occurances\n",
    "print(training_data[0:5, ])"
   ]
  },
  {
   "cell_type": "markdown",
   "metadata": {},
   "source": [
    "### Step 4: Train Model"
   ]
  },
  {
   "cell_type": "code",
   "execution_count": 17,
   "metadata": {},
   "outputs": [
    {
     "data": {
      "text/plain": [
       "MultinomialNB(alpha=1.0, class_prior=None, fit_prior=True)"
      ]
     },
     "execution_count": 17,
     "metadata": {},
     "output_type": "execute_result"
    }
   ],
   "source": [
    "# Call Multinominal Naive Bayes and Train the model\n",
    "model = MultinomialNB()\n",
    "model.fit(training_data, y_train)"
   ]
  },
  {
   "cell_type": "markdown",
   "metadata": {},
   "source": [
    "### Step 5: Test the Model"
   ]
  },
  {
   "cell_type": "code",
   "execution_count": 18,
   "metadata": {},
   "outputs": [],
   "source": [
    "# Test on the test data, try prediction\n",
    "y_predicted = model.predict(test_data)"
   ]
  },
  {
   "cell_type": "code",
   "execution_count": 19,
   "metadata": {},
   "outputs": [
    {
     "data": {
      "text/plain": [
       "(7,)"
      ]
     },
     "execution_count": 19,
     "metadata": {},
     "output_type": "execute_result"
    }
   ],
   "source": [
    "y_predicted.shape"
   ]
  },
  {
   "cell_type": "code",
   "execution_count": 20,
   "metadata": {},
   "outputs": [
    {
     "data": {
      "text/plain": [
       "array([1, 1, 1, 1, 1, 1, 1], dtype=int64)"
      ]
     },
     "execution_count": 20,
     "metadata": {},
     "output_type": "execute_result"
    }
   ],
   "source": [
    "y_predicted"
   ]
  },
  {
   "cell_type": "markdown",
   "metadata": {},
   "source": [
    "### Step 6: Validate the Accuracy"
   ]
  },
  {
   "cell_type": "code",
   "execution_count": 21,
   "metadata": {},
   "outputs": [
    {
     "name": "stdout",
     "output_type": "stream",
     "text": [
      "Accuracy score:  0.8571428571428571\n",
      "Precision score:  0.8571428571428571\n",
      "Recall score:  1.0\n",
      "F1 score:  0.923076923076923\n"
     ]
    }
   ],
   "source": [
    "# Validate the accuracy of the predictions\n",
    "print('Accuracy score: ', format(accuracy_score(y_test, y_predicted)))\n",
    "print('Precision score: ', format(precision_score(y_test, y_predicted)))\n",
    "print('Recall score: ', format(recall_score(y_test, y_predicted)))\n",
    "print('F1 score: ', format(f1_score(y_test, y_predicted)))"
   ]
  },
  {
   "cell_type": "code",
   "execution_count": 22,
   "metadata": {},
   "outputs": [
    {
     "data": {
      "text/plain": [
       "array([[0, 1],\n",
       "       [0, 6]], dtype=int64)"
      ]
     },
     "execution_count": 22,
     "metadata": {},
     "output_type": "execute_result"
    }
   ],
   "source": [
    "# calculate confusion matrix to evaluate the the accuracy of the prediction\n",
    "cmat = confusion_matrix(y_test, y_predicted)\n",
    "cmat"
   ]
  },
  {
   "cell_type": "code",
   "execution_count": 23,
   "metadata": {},
   "outputs": [
    {
     "data": {
      "image/png": "[encoded data removed]",
      "text/plain": [
       "<Figure size 432x288 with 1 Axes>"
      ]
     },
     "metadata": {},
     "output_type": "display_data"
    }
   ],
   "source": [
    "# visualize the confusion matrix by use of seaborn library\n",
    "sns.set()\n",
    "sns.heatmap(cmat.T, square=True, annot=True, fmt='d', cbar=False)\n",
    "plt.xlabel('actual')\n",
    "plt.ylabel('predicted');\n",
    "plt.show()"
   ]
  },
  {
   "cell_type": "code",
   "execution_count": 24,
   "metadata": {},
   "outputs": [
    {
     "name": "stdout",
     "output_type": "stream",
     "text": [
      "              precision    recall  f1-score   support\n",
      "\n",
      "           0       0.00      0.00      0.00         1\n",
      "           1       0.86      1.00      0.92         6\n",
      "\n",
      "   micro avg       0.86      0.86      0.86         7\n",
      "   macro avg       0.43      0.50      0.46         7\n",
      "weighted avg       0.73      0.86      0.79         7\n",
      "\n"
     ]
    },
    {
     "name": "stderr",
     "output_type": "stream",
     "text": [
      "C:\\Users\\marti\\AppData\\Local\\Programs\\Python\\Python37-32\\lib\\site-packages\\sklearn\\metrics\\classification.py:1143: UndefinedMetricWarning: Precision and F-score are ill-defined and being set to 0.0 in labels with no predicted samples.\n",
      "  'precision', 'predicted', average, warn_for)\n"
     ]
    }
   ],
   "source": [
    "# print accuracy evaluation report\n",
    "report = classification_report(y_test, y_predicted)\n",
    "print(report)"
   ]
  },
  {
   "cell_type": "markdown",
   "metadata": {},
   "source": [
    "### Step 7: Implement Model 1 for New Data Prediction"
   ]
  },
  {
   "cell_type": "code",
   "execution_count": 25,
   "metadata": {},
   "outputs": [],
   "source": [
    "my_text1 = ['This text uses nice words']\n",
    "my_text2 = ['There is a shit text']\n",
    "my_text3 = ['Hi, my name is Martin.']\n",
    "my_text = my_text3"
   ]
  },
  {
   "cell_type": "code",
   "execution_count": 26,
   "metadata": {},
   "outputs": [],
   "source": [
    "my_data = count_vector.transform(my_text)"
   ]
  },
  {
   "cell_type": "code",
   "execution_count": 27,
   "metadata": {},
   "outputs": [],
   "source": [
    "my_predict = model.predict(my_data)"
   ]
  },
  {
   "cell_type": "code",
   "execution_count": 28,
   "metadata": {},
   "outputs": [
    {
     "name": "stdout",
     "output_type": "stream",
     "text": [
      "  (0, 77)\t1\n",
      "  (0, 83)\t1\n",
      "  (0, 95)\t1\n",
      "  (0, 105)\t1\n",
      "  (0, 107)\t1\n"
     ]
    }
   ],
   "source": [
    "print(my_data)"
   ]
  },
  {
   "cell_type": "code",
   "execution_count": 29,
   "metadata": {},
   "outputs": [
    {
     "data": {
      "text/plain": [
       "array([0], dtype=int64)"
      ]
     },
     "execution_count": 29,
     "metadata": {},
     "output_type": "execute_result"
    }
   ],
   "source": [
    "my_predict"
   ]
  },
  {
   "cell_type": "markdown",
   "metadata": {
    "collapsed": true
   },
   "source": [
    "## <span style=\"color:green\">Read More</span>\n",
    "https://www.kaggle.com/pceccon/countvectorizer-and-tfidf-strategies"
   ]
  }
 ],
 "metadata": {
  "kernelspec": {
   "display_name": "Python 3",
   "language": "python",
   "name": "python3"
  },
  "language_info": {
   "codemirror_mode": {
    "name": "ipython",
    "version": 3
   },
   "file_extension": ".py",
   "mimetype": "text/x-python",
   "name": "python",
   "nbconvert_exporter": "python",
   "pygments_lexer": "ipython3",
   "version": "3.7.2"
  }
 },
 "nbformat": 4,
 "nbformat_minor": 2
}
