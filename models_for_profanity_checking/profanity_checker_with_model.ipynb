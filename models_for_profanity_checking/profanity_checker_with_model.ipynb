{
 "cells": [
  {
   "cell_type": "markdown",
   "metadata": {},
   "source": [
    "# Bayes Modelling for NLP\n",
    "In this exercise we will will implement Bayes algorithms for Natural Language Processing (NLP).<br>\n",
    "We will solve three tasks:\n",
    "1. Recognize the subject of conversation\n",
    "2. Separate spam from non-spam mail messages\n",
    "3. Check a piece of text for profanity language"
   ]
  },
  {
   "cell_type": "markdown",
   "metadata": {},
   "source": [
    "# Task 1: What Do They Talk About\n",
    "The objective is to use machine learning for training a model, which can be used for automatic detection of main topic in a text message."
   ]
  },
  {
   "cell_type": "markdown",
   "metadata": {},
   "source": [
    "## Step 1: Import "
   ]
  },
  {
   "cell_type": "code",
   "execution_count": 1,
   "metadata": {},
   "outputs": [],
   "source": [
    "import matplotlib.pyplot as plt\n",
    "import pandas as pd\n",
    "import seaborn as sns\n",
    "from sklearn.feature_extraction.text import CountVectorizer\n",
    "from sklearn.metrics import accuracy_score\n",
    "from sklearn.metrics import classification_report\n",
    "from sklearn.metrics import confusion_matrix\n",
    "from sklearn.metrics import precision_score, recall_score, f1_score\n",
    "from sklearn.model_selection import train_test_split\n",
    "from sklearn.naive_bayes import MultinomialNB\n"
   ]
  },
  {
   "cell_type": "markdown",
   "metadata": {},
   "source": [
    "## Step 2: Dataset ### \n",
    "We will be using a sample dataset called <b>20newsgroups</b> <a href = \"http://qwone.com/~jason/20Newsgroups/\">http://qwone.com/~jason/20Newsgroups/</a> <br>\n",
    "\n",
    "A pre-processed set called __fetch_20newsgroups__, which contains about 18000 newsgroups posts on 20 topics, is included in Python <b>sklearn.datasets</b> <a href = \"https://scikit-learn.org/stable/datasets/index.html#newsgroups-dataset\">https://scikit-learn.org/stable/datasets/index.html#newsgroups-dataset</a>\n",
    "This dataset can be downloaded in two parts: one for training and one for testing."
   ]
  },
  {
   "cell_type": "markdown",
   "metadata": {},
   "source": [
    "The 20 Newsgroups\n",
    "<div style=\"width: 400px;\">![\"20 Newsgroups\"](images/20newsgroups.png \"20 Newsgroups\")</div>\n",
    "<br>\n",
    "It is possible to download some of the newsgroups only."
   ]
  },
  {
   "cell_type": "markdown",
   "metadata": {},
   "source": [
    "## Step 3: Data Preparation###",
    "\n",
    ""
   ]
  },
  {
   "cell_type": "code",
   "execution_count": 5,
   "metadata": {},
   "outputs": [],
   "source": [
    ""
   ]
  },
  {
   "cell_type": "code",
   "execution_count": 6,
   "metadata": {},
   "outputs": [],
   "source": [
    ""
   ]
  },
  {
   "cell_type": "code",
   "execution_count": 7,
   "metadata": {},
   "outputs": [],
   "source": [
    ""
   ]
  },
  {
   "cell_type": "code",
   "execution_count": null,
   "metadata": {},
   "outputs": [],
   "source": [
    "### Clean Data and Convert into Vector of Numbers\n",
    "#### Clean the data by \n",
    "- convering in lower-case letters\n",
    "- removing stop words, such as 'the', 'an', etc., which are typical for the English language\n",
    "- removing punctuation<br>\n",
    "\n",
    "#### Vectorize\n",
    "- tokenize the text (split the words)\n",
    "- count the different words used in all sentences\n",
    "- assess how valuable they are\n",
    "- present the sentenses as vectors of frequencies of used words<br>\n",
    "\n",
    "#### All is done by TfidfVectorizer\n",
    "We use TF-IDF vectorizer to convert the content of each string into a vector of numbers"
   ]
  },
  {
   "cell_type": "code",
   "execution_count": 8,
   "metadata": {},
   "outputs": [],
   "source": [
    ""
   ]
  },
  {
   "cell_type": "markdown",
   "metadata": {},
   "source": [
    "## Step 4: Train Model"
   ]
  },
  {
   "cell_type": "code",
   "execution_count": null,
   "metadata": {},
   "outputs": [],
   "source": [
    ""
   ]
  },
  {
   "cell_type": "code",
   "execution_count": null,
   "metadata": {},
   "outputs": [],
   "source": [
    "\n"
   ]
  },
  {
   "cell_type": "markdown",
   "metadata": {},
   "source": [
    "## Step 5: Test the Model",
    "\n",
    "\n"
   ]
  },
  {
   "cell_type": "markdown",
   "metadata": {},
   "source": [
    "## Step 6: Validate the Model"
   ]
  },
  {
   "cell_type": "markdown",
   "metadata": {},
   "source": [
    "## Step 7: Implement the Model for New Data Prediction ",
    "\n",
    "my_predict('talking police man force')"
   ]
  },
  {
   "cell_type": "markdown",
   "metadata": {
    "collapsed": true
   },
   "source": [
    "## Task for You\n",
    "Select other subjects (categories) and train a model for their recognition. ",
    "\n",
    "### Clean Data and Convert into Vector of Numbers\n",
    "#### Clean the data by \n",
    "- convering in lower-case letters\n",
    "- removing stop words, such as 'the', 'an', etc., which are typical for the English language\n",
    "- removing punctuation<br>\n",
    "\n",
    "#### Vectorize\n",
    "- tokenize the text (split the words)\n",
    "- count the different words used in all sentences\n",
    "- assess how valuable they are\n",
    "- present the sentenses as vectors of frequencies of used words<br>\n",
    "\n",
    "#### All is done by TfidfVectorizer\n",
    "We use TF-IDF vectorizer to convert the content of each string into a vector of numbers"
   ]
  },
  {
   "cell_type": "markdown",
   "metadata": {},
   "source": [
    "## Step 4: Train Model"
   ]
  },
  {
   "cell_type": "markdown",
   "metadata": {},
   "source": [
    "## Step 5: Test the Model",
    "\n",
    "# use the trained model to predict categories for the test data\n",
    "y_predicted = model.predict(X_test)\n",
    "# see the predicted labels\n",
    "y_predicted"
   ]
  },
  {
   "cell_type": "markdown",
   "metadata": {},
   "source": [
    "## Step 6: Validate the Model",
    "\n",
    "# print accuracy evaluation report\n",
    "report = classification_report(y_test, y_predicted)\n",
    "print(report)"
   ]
  },
  {
   "cell_type": "markdown",
   "metadata": {},
   "source": [
    "## Step 7: Implement the Model for New Data Prediction "
   ]
  }
 ],
 "metadata": {
  "kernelspec": {
   "display_name": "Python 3",
   "language": "python",
   "name": "python3"
  },
  "language_info": {
   "codemirror_mode": {
    "name": "ipython",
    "version": 3
   },
   "file_extension": ".py",
   "mimetype": "text/x-python",
   "name": "python",
   "nbconvert_exporter": "python",
   "pygments_lexer": "ipython3",
   "version": "3.7.2"
  }
 },
 "nbformat": 4,
 "nbformat_minor": 2
}
